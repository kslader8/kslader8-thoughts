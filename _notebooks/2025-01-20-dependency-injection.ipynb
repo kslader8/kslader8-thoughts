{
 "cells": [
  {
   "cell_type": "markdown",
   "metadata": {
    "vscode": {
     "languageId": "plaintext"
    }
   },
   "source": [
    "# Dependency Injection in Python\n",
    "- categories: [dependencies, design, python-inject]"
   ]
  },
  {
   "cell_type": "markdown",
   "metadata": {},
   "source": [
    "## Objectives\n",
    "The objectives of this poc is to:\n",
    "- Explorer python dependency injection using [python-inject](https://pypi.org/project/inject/)\n",
    "\n",
    "## Why\n",
    "\n",
    "Depency injection is useful to help create loosely coupled, more maintainable, and testable code by allowing a class to receive it's dependency from an external source. By using a dependency injection framework, you're cemementing a pattern that steers you to dependency inversion naturally to improve code flexibility and reusability by isolating dependencies."
   ]
  },
  {
   "cell_type": "markdown",
   "metadata": {},
   "source": [
    "## Notebook Setup"
   ]
  },
  {
   "cell_type": "code",
   "execution_count": 1,
   "metadata": {},
   "outputs": [],
   "source": [
    "%load_ext jupyter_black\n",
    "%load_ext autoreload\n",
    "%autoreload 2\n",
    "%matplotlib inline\n",
    "\n",
    "%config Completer.use_jedi = False"
   ]
  },
  {
   "cell_type": "markdown",
   "metadata": {},
   "source": [
    "### Libraries"
   ]
  },
  {
   "cell_type": "code",
   "execution_count": 2,
   "metadata": {},
   "outputs": [],
   "source": [
    "import inject"
   ]
  },
  {
   "cell_type": "markdown",
   "metadata": {},
   "source": [
    "## Dependency Injector Test"
   ]
  },
  {
   "cell_type": "markdown",
   "metadata": {},
   "source": [
    "### Setup Dependency Container\n",
    "\n",
    "- a dependency injection frame traditionally has a single function that bootstraps all dependencies of an application as startup\n",
    "- python-inject uses inject.configure as the entry point for initializing the configuration"
   ]
  },
  {
   "cell_type": "code",
   "execution_count": 26,
   "metadata": {},
   "outputs": [
    {
     "name": "stdout",
     "output_type": "stream",
     "text": [
      "Help on function configure in module inject:\n",
      "\n",
      "configure(\n",
      "    config: Optional[Callable[[ForwardRef('Binder')], NoneType]] = None,\n",
      "    bind_in_runtime: bool = True,\n",
      "    allow_override: bool = False,\n",
      "    clear: bool = False,\n",
      "    once: bool = False\n",
      ") -> inject.Injector\n",
      "    Create an injector with a callable config or raise an exception when already configured.\n",
      "\n"
     ]
    }
   ],
   "source": [
    "help(inject.configure)"
   ]
  },
  {
   "cell_type": "markdown",
   "metadata": {},
   "source": [
    "#### Configuration Sample"
   ]
  },
  {
   "cell_type": "code",
   "execution_count": 4,
   "metadata": {},
   "outputs": [],
   "source": [
    "def dependency_configuration(binder: inject.Binder):\n",
    "    binder.bind(int, 1337)"
   ]
  },
  {
   "cell_type": "code",
   "execution_count": 19,
   "metadata": {},
   "outputs": [
    {
     "data": {
      "text/plain": [
       "'public methods: get_instance'"
      ]
     },
     "execution_count": 19,
     "metadata": {},
     "output_type": "execute_result"
    }
   ],
   "source": [
    "injector = inject.configure(dependency_configuration, once=True)\n",
    "\n",
    "f\"public methods: {''.join([method for method in dir(injector) if not method.startswith(\"_\")])}\""
   ]
  },
  {
   "cell_type": "markdown",
   "metadata": {},
   "source": [
    "### Use Dependency Container"
   ]
  },
  {
   "cell_type": "code",
   "execution_count": 21,
   "metadata": {},
   "outputs": [
    {
     "name": "stdout",
     "output_type": "stream",
     "text": [
      "Help on function autoparams in module inject:\n",
      "\n",
      "autoparams(*selected: str) -> Callable\n",
      "    Return a decorator that will inject args into a function using type annotations, Python >= 3.5 only.\n",
      "\n",
      "    For example::\n",
      "\n",
      "        @inject.autoparams()\n",
      "        def refresh_cache(cache: RedisCache, db: DbInterface):\n",
      "            pass\n",
      "\n",
      "    There is an option to specify which arguments we want to inject without attempts of injecting everything:\n",
      "\n",
      "    For example::\n",
      "\n",
      "        @inject.autoparams('cache', 'db')\n",
      "        def sign_up(name, email, cache: RedisCache, db: DbInterface):\n",
      "            pass\n",
      "\n"
     ]
    }
   ],
   "source": [
    "help(inject.autoparams)"
   ]
  },
  {
   "cell_type": "markdown",
   "metadata": {},
   "source": [
    "#### Usage Sample"
   ]
  },
  {
   "cell_type": "code",
   "execution_count": 25,
   "metadata": {},
   "outputs": [
    {
     "data": {
      "text/plain": [
       "2674"
      ]
     },
     "execution_count": 25,
     "metadata": {},
     "output_type": "execute_result"
    }
   ],
   "source": [
    "@inject.autoparams()\n",
    "def target_function(number: int):\n",
    "    return number * 2\n",
    "\n",
    "\n",
    "target_function()"
   ]
  }
 ],
 "metadata": {
  "kernelspec": {
   "display_name": ".venv",
   "language": "python",
   "name": "python3"
  },
  "language_info": {
   "codemirror_mode": {
    "name": "ipython",
    "version": 3
   },
   "file_extension": ".py",
   "mimetype": "text/x-python",
   "name": "python",
   "nbconvert_exporter": "python",
   "pygments_lexer": "ipython3",
   "version": "3.13.1"
  }
 },
 "nbformat": 4,
 "nbformat_minor": 2
}
