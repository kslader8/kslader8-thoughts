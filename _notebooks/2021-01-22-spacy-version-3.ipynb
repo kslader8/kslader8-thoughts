{
 "cells": [
  {
   "cell_type": "markdown",
   "id": "female-behalf",
   "metadata": {},
   "source": [
    "# SpaCy 3 - New Toys\n",
    "- categories: [nlp]"
   ]
  },
  {
   "cell_type": "markdown",
   "id": "afraid-exemption",
   "metadata": {},
   "source": [
    "The new version of SpaCy in pre-release hase several new features i'm eagerly awaiting.\n",
    "- Transformer Model\n",
    "- Trainable Sentence Splitter\n",
    "- Improved Interface for Training\n",
    "- Groups of Overlapable Spans"
   ]
  },
  {
   "cell_type": "code",
   "execution_count": 28,
   "id": "hired-kenya",
   "metadata": {},
   "outputs": [],
   "source": [
    "import json"
   ]
  },
  {
   "cell_type": "code",
   "execution_count": 2,
   "id": "encouraging-haven",
   "metadata": {},
   "outputs": [
    {
     "data": {
      "text/plain": [
       "'3.0.0rc3'"
      ]
     },
     "execution_count": 2,
     "metadata": {},
     "output_type": "execute_result"
    }
   ],
   "source": [
    "import spacy\n",
    "\n",
    "from spacy.tokens import Doc\n",
    "from spacy.training import Example\n",
    "\n",
    "spacy.__version__"
   ]
  },
  {
   "cell_type": "markdown",
   "id": "personalized-company",
   "metadata": {},
   "source": [
    "### Models\n",
    "There is now a transformers based model for greater accuracy"
   ]
  },
  {
   "cell_type": "code",
   "execution_count": 60,
   "id": "eastern-leone",
   "metadata": {},
   "outputs": [
    {
     "data": {
      "text/plain": [
       "[('transformer',\n",
       "  <spacy_transformers.pipeline_component.Transformer at 0x1be4e4513b0>),\n",
       " ('tagger', <spacy.pipeline.tagger.Tagger at 0x1be4e457e50>),\n",
       " ('parser', <spacy.pipeline.dep_parser.DependencyParser at 0x1bd9286b040>),\n",
       " ('ner', <spacy.pipeline.ner.EntityRecognizer at 0x1bdb7373ee0>),\n",
       " ('attribute_ruler',\n",
       "  <spacy.pipeline.attributeruler.AttributeRuler at 0x1be0a08a600>),\n",
       " ('lemmatizer', <spacy.lang.en.lemmatizer.EnglishLemmatizer at 0x1be0a091900>)]"
      ]
     },
     "execution_count": 60,
     "metadata": {},
     "output_type": "execute_result"
    }
   ],
   "source": [
    "model_acc = spacy.load(\"en_core_web_trf\")\n",
    "model_acc.components"
   ]
  },
  {
   "cell_type": "markdown",
   "id": "still-given",
   "metadata": {},
   "source": [
    "As well as an improved version of the model we all know and love"
   ]
  },
  {
   "cell_type": "code",
   "execution_count": 59,
   "id": "serious-power",
   "metadata": {},
   "outputs": [
    {
     "data": {
      "text/plain": [
       "[('tok2vec', <spacy.pipeline.tok2vec.Tok2Vec at 0x1be4ba76860>),\n",
       " ('tagger', <spacy.pipeline.tagger.Tagger at 0x1be0a1c94a0>),\n",
       " ('parser', <spacy.pipeline.dep_parser.DependencyParser at 0x1bdb5b896a0>),\n",
       " ('senter', <spacy.pipeline.senter.SentenceRecognizer at 0x1be4ba76b80>),\n",
       " ('ner', <spacy.pipeline.ner.EntityRecognizer at 0x1bdb5cb7fa0>),\n",
       " ('attribute_ruler',\n",
       "  <spacy.pipeline.attributeruler.AttributeRuler at 0x1bdb5f156c0>),\n",
       " ('lemmatizer', <spacy.lang.en.lemmatizer.EnglishLemmatizer at 0x1bdb5f6b340>)]"
      ]
     },
     "execution_count": 59,
     "metadata": {},
     "output_type": "execute_result"
    }
   ],
   "source": [
    "model_eff = spacy.load(\"en_core_web_sm\")\n",
    "model_eff.components"
   ]
  },
  {
   "cell_type": "markdown",
   "id": "marked-tourist",
   "metadata": {},
   "source": [
    "### A Statistical Sentence Splitter\n",
    "This has been one of my dreams for quite a while. I mentioned it a few times on the SpaCy forums too. Very glad to see it make it's way into the library now."
   ]
  },
  {
   "cell_type": "code",
   "execution_count": 48,
   "id": "timely-bubble",
   "metadata": {},
   "outputs": [
    {
     "data": {
      "text/plain": [
       "{'doc_annotation': {'cats': {}, 'entities': ['O', 'O', 'O', 'O'], 'links': {}},\n",
       " 'token_annotation': {'ORTH': ['Apply', 'some', 'sun', 'screen'],\n",
       "  'SPACY': [True, True, True, True],\n",
       "  'TAG': ['VERB', 'DET', 'NOUN', 'NOUN'],\n",
       "  'LEMMA': ['', '', '', ''],\n",
       "  'POS': ['', '', '', ''],\n",
       "  'MORPH': ['', '', '', ''],\n",
       "  'HEAD': [0, 1, 2, 3],\n",
       "  'DEP': ['', '', '', ''],\n",
       "  'SENT_START': [1, 0, 1, 0]}}"
      ]
     },
     "execution_count": 48,
     "metadata": {},
     "output_type": "execute_result"
    }
   ],
   "source": [
    "predicted = Doc(model_eff.vocab, words=[\"Apply\", \"some\", \"sun\", \"screen\"])\n",
    "\n",
    "token_ref = [\"Apply\", \"some\", \"sun\", \"screen\"]\n",
    "tags_ref = [\"VERB\", \"DET\", \"NOUN\", \"NOUN\"]\n",
    "sent_refs = [1, 0, 0, 0]\n",
    "\n",
    "example = Example.from_dict(predicted, {\"words\": token_ref, \"tags\": tags_ref, \"sent_starts\": sent_refs})\n",
    "example.to_dict()"
   ]
  },
  {
   "cell_type": "code",
   "execution_count": 55,
   "id": "aggregate-skating",
   "metadata": {},
   "outputs": [
    {
     "data": {
      "text/plain": [
       "{'senter': 1.9999818801879883}"
      ]
     },
     "execution_count": 55,
     "metadata": {},
     "output_type": "execute_result"
    }
   ],
   "source": [
    "senter = model_eff.get_pipe(\"senter\")\n",
    "optimizer = model_eff.initialize()\n",
    "\n",
    "examples = [example]\n",
    "losses = senter.update(examples, sgd=optimizer)\n",
    "losses"
   ]
  }
 ],
 "metadata": {
  "kernelspec": {
   "display_name": "Python 3",
   "language": "python",
   "name": "python3"
  },
  "language_info": {
   "codemirror_mode": {
    "name": "ipython",
    "version": 3
   },
   "file_extension": ".py",
   "mimetype": "text/x-python",
   "name": "python",
   "nbconvert_exporter": "python",
   "pygments_lexer": "ipython3",
   "version": "3.8.5"
  }
 },
 "nbformat": 4,
 "nbformat_minor": 5
}
