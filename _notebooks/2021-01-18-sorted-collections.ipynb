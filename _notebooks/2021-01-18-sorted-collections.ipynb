{
 "cells": [
  {
   "cell_type": "markdown",
   "metadata": {},
   "source": [
    "# Sorted Collections in Python\n",
    "- comments: true\n",
    "- categories: [data-structures]"
   ]
  },
  {
   "cell_type": "markdown",
   "metadata": {},
   "source": [
    "I recently was looking at a making predictions on a graph transaction and required maintaining a sorted collection to implement. After spining my wheels (wasting time and failing to build it myself), I google for a bit and found this amazing library called [sortedcontainers](http://www.grantjenks.com/docs/sortedcontainers/) that is pure python to boot. \n",
    "\n",
    "If you didn't know about it previously, check it out. It will make your life easier in the future."
   ]
  },
  {
   "cell_type": "code",
   "execution_count": 1,
   "metadata": {},
   "outputs": [
    {
     "name": "stdout",
     "output_type": "stream",
     "text": [
      "Collecting package metadata (repodata.json): ...working... done\n",
      "Solving environment: ...working... done\n",
      "\n",
      "# All requested packages already installed.\n",
      "\n"
     ]
    }
   ],
   "source": [
    "!conda install memory_profiler -n data-structures -y"
   ]
  },
  {
   "cell_type": "code",
   "execution_count": 2,
   "metadata": {},
   "outputs": [
    {
     "name": "stdout",
     "output_type": "stream",
     "text": [
      "Collecting package metadata (repodata.json): ...working... done\n",
      "Solving environment: ...working... done\n",
      "\n",
      "# All requested packages already installed.\n",
      "\n"
     ]
    }
   ],
   "source": [
    "!conda install sortedcontainers -n data-structures -y"
   ]
  },
  {
   "cell_type": "code",
   "execution_count": 3,
   "metadata": {},
   "outputs": [],
   "source": [
    "%load_ext autoreload\n",
    "%load_ext memory_profiler\n",
    "%autoreload 2"
   ]
  },
  {
   "cell_type": "code",
   "execution_count": 4,
   "metadata": {},
   "outputs": [],
   "source": [
    "from sortedcontainers import SortedList, SortedDict, SortedSet"
   ]
  },
  {
   "cell_type": "markdown",
   "metadata": {},
   "source": [
    "### Sorted List"
   ]
  },
  {
   "cell_type": "code",
   "execution_count": 5,
   "metadata": {},
   "outputs": [
    {
     "name": "stdout",
     "output_type": "stream",
     "text": [
      "List(['e', 'a', 'c', 'd', 'b'])\n",
      "SortedList(['a', 'b', 'c', 'd', 'e'])\n",
      "count of c: 10,000,000\n"
     ]
    }
   ],
   "source": [
    "l = ['e', 'a', 'c', 'd', 'b']\n",
    "print(f\"List({l})\")\n",
    "sl = SortedList(l)\n",
    "print(f\"{sl}\")\n",
    "sl *= 10_000_000\n",
    "print(f\"count of c: {sl.count('c'):,}\")\n",
    "del sl"
   ]
  },
  {
   "cell_type": "code",
   "execution_count": 6,
   "metadata": {},
   "outputs": [
    {
     "name": "stdout",
     "output_type": "stream",
     "text": [
      "peak memory: 51.81 MiB, increment: 0.15 MiB\n",
      "peak memory: 52.68 MiB, increment: 0.01 MiB\n",
      "peak memory: 53.14 MiB, increment: -0.00 MiB\n",
      "peak memory: 53.18 MiB, increment: 0.02 MiB\n",
      "peak memory: 53.34 MiB, increment: 0.01 MiB\n",
      "15.9 s ± 254 ms per loop (mean ± std. dev. of 5 runs, 1 loop each)\n"
     ]
    }
   ],
   "source": [
    "%%timeit -n 1 -r 5\n",
    "%memit\n",
    "sl = SortedList(['e', 'a', 'c', 'd', 'b'])\n",
    "sl *= 10_000_000\n",
    "sl.count('c')\n",
    "del sl"
   ]
  },
  {
   "cell_type": "markdown",
   "metadata": {},
   "source": [
    "### Sorted Dict"
   ]
  },
  {
   "cell_type": "code",
   "execution_count": 7,
   "metadata": {},
   "outputs": [
    {
     "name": "stdout",
     "output_type": "stream",
     "text": [
      "Dict({'c': 3, 'a': 1, 'b': 2})\n",
      "SortedDict({'a': 1, 'b': 2, 'c': 3})\n",
      "pop last item: ('c', 3)\n"
     ]
    }
   ],
   "source": [
    "d = {'c': 3, 'a': 1, 'b': 2}\n",
    "print(f\"Dict({d})\")\n",
    "sd = SortedDict(d)\n",
    "print(f\"{sd}\")\n",
    "print(f\"pop last item: {sd.popitem(index=-1)}\")\n",
    "del sd"
   ]
  },
  {
   "cell_type": "code",
   "execution_count": 8,
   "metadata": {},
   "outputs": [
    {
     "name": "stdout",
     "output_type": "stream",
     "text": [
      "peak memory: 53.62 MiB, increment: 0.00 MiB\n",
      "peak memory: 53.62 MiB, increment: 0.00 MiB\n",
      "peak memory: 53.62 MiB, increment: 0.00 MiB\n",
      "peak memory: 53.63 MiB, increment: 0.00 MiB\n",
      "peak memory: 53.63 MiB, increment: 0.00 MiB\n",
      "7.84 s ± 248 ms per loop (mean ± std. dev. of 5 runs, 1 loop each)\n"
     ]
    }
   ],
   "source": [
    "%%timeit -n 1 -r 5\n",
    "%memit\n",
    "sd = SortedDict({'c': 3, 'a': 1, 'b': 2})\n",
    "sd.popitem(index=-1)\n",
    "del sd"
   ]
  },
  {
   "cell_type": "markdown",
   "metadata": {},
   "source": [
    "### Sorted Set"
   ]
  },
  {
   "cell_type": "code",
   "execution_count": 9,
   "metadata": {},
   "outputs": [
    {
     "name": "stdout",
     "output_type": "stream",
     "text": [
      "Set({'d', 'c', 'r', 'b', 'a'})\n",
      "SortedSet(['a', 'b', 'c', 'd', 'r'])\n",
      "index of c: 2\n"
     ]
    }
   ],
   "source": [
    "s = set('abracadabra')\n",
    "print(f\"Set({s})\")\n",
    "ss = SortedSet(s)\n",
    "print(f\"{ss}\")\n",
    "print(f\"index of c: {ss.bisect_left('c')}\")\n",
    "del ss"
   ]
  },
  {
   "cell_type": "code",
   "execution_count": 10,
   "metadata": {},
   "outputs": [
    {
     "name": "stdout",
     "output_type": "stream",
     "text": [
      "peak memory: 53.68 MiB, increment: 0.00 MiB\n",
      "peak memory: 53.68 MiB, increment: 0.00 MiB\n",
      "peak memory: 53.68 MiB, increment: 0.00 MiB\n",
      "peak memory: 53.68 MiB, increment: 0.00 MiB\n",
      "peak memory: 53.68 MiB, increment: 0.00 MiB\n",
      "7.73 s ± 200 ms per loop (mean ± std. dev. of 5 runs, 1 loop each)\n"
     ]
    }
   ],
   "source": [
    "%%timeit -n 1 -r 5\n",
    "%memit\n",
    "ss = SortedSet('abracadabra')\n",
    "ss.bisect_left('c')\n",
    "del ss"
   ]
  }
 ],
 "metadata": {
  "kernelspec": {
   "display_name": "data-structures",
   "language": "python",
   "name": "data-structures"
  },
  "language_info": {
   "codemirror_mode": {
    "name": "ipython",
    "version": 3
   },
   "file_extension": ".py",
   "mimetype": "text/x-python",
   "name": "python",
   "nbconvert_exporter": "python",
   "pygments_lexer": "ipython3",
   "version": "3.9.1"
  }
 },
 "nbformat": 4,
 "nbformat_minor": 2
}
