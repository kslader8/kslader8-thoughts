{
 "cells": [
  {
   "cell_type": "markdown",
   "metadata": {},
   "source": [
    "# HackerRack Questions - Graph Traversal"
   ]
  },
  {
   "cell_type": "markdown",
   "metadata": {},
   "source": [
    "I recently did a few hacker rank questions. No promises that these are ideal solutions, but this is my work below."
   ]
  },
  {
   "cell_type": "markdown",
   "metadata": {},
   "source": [
    "## Problems"
   ]
  },
  {
   "cell_type": "code",
   "execution_count": 6,
   "metadata": {},
   "outputs": [],
   "source": [
    "import random\n",
    "import big_o"
   ]
  },
  {
   "cell_type": "markdown",
   "metadata": {},
   "source": [
    "### Q1\n",
    "Given the number of rows and columns for a grid, find the number of different paths \n",
    "when you can only move down or right assuming you start at the top left and finish \n",
    "at the bottom right.\n",
    "\n",
    "**Example:** (7, 3) -> 28; (3,3) -> 6"
   ]
  },
  {
   "cell_type": "code",
   "execution_count": 10,
   "metadata": {},
   "outputs": [
    {
     "name": "stdout",
     "output_type": "stream",
     "text": [
      "rows: 3 | columns: 3\n",
      "number of paths: 6\n",
      "rows: 7 | columns: 3\n",
      "number of paths: 28\n"
     ]
    }
   ],
   "source": [
    "def calc_matrix_paths(rows, columns=None):\n",
    "    if columns is None: columns = rows\n",
    "    first_row, first_column = 0, 0\n",
    "    count_matrix = [[0 for column in range(columns)] for row in range(rows)] \n",
    "    \n",
    "    # r\n",
    "    for row in range(rows): \n",
    "        count_matrix[row][first_column] = 1\n",
    "    \n",
    "    # c\n",
    "    for column in range(columns): \n",
    "        count_matrix[first_row][column] = 1 \n",
    "    \n",
    "    # r*c\n",
    "    for row in range(1, rows): \n",
    "        for column in range(1, columns):  \n",
    "            count_matrix[row][column] = count_matrix[row-1][column] + count_matrix[row][column-1] \n",
    "            \n",
    "    return count_matrix[rows-1][columns-1]   \n",
    "\n",
    "cases = [\n",
    "    (3, 3), # square matrix\n",
    "    (7, 3), # non square matrix\n",
    "]   \n",
    "    \n",
    "for rows, columns in cases:\n",
    "    print(f\"rows: {rows} | columns: {columns}\")\n",
    "    result = calc_matrix_paths(rows, columns)\n",
    "    print(f\"number of paths: {result}\")"
   ]
  },
  {
   "cell_type": "code",
   "execution_count": 11,
   "metadata": {},
   "outputs": [
    {
     "data": {
      "text/plain": [
       "[big_o.complexities.Constant,\n",
       " big_o.complexities.Linear,\n",
       " big_o.complexities.Quadratic,\n",
       " big_o.complexities.Cubic,\n",
       " big_o.complexities.Polynomial,\n",
       " big_o.complexities.Logarithmic,\n",
       " big_o.complexities.Linearithmic,\n",
       " big_o.complexities.Exponential]"
      ]
     },
     "execution_count": 11,
     "metadata": {},
     "output_type": "execute_result"
    }
   ],
   "source": [
    "big_o.complexities.ALL_CLASSES"
   ]
  },
  {
   "cell_type": "code",
   "execution_count": 15,
   "metadata": {},
   "outputs": [],
   "source": [
    "gen = lambda n: n\n",
    "best, others = big_o.big_o(calc_matrix_paths, gen, min_n=2, max_n=5_000, n_measures=10, n_repeats=2)"
   ]
  },
  {
   "cell_type": "code",
   "execution_count": 26,
   "metadata": {},
   "outputs": [
    {
     "name": "stdout",
     "output_type": "stream",
     "text": [
      "predicted: Exponential: time = -3.2 * 0.002^n (sec)\n",
      "\n",
      "Exponential: time = -3.2 * 0.002^n (sec) | 9.055977664509317\n",
      "Polynomial: time = -7.5 * x^1.3 (sec) | 22.531114726371193\n",
      "Cubic: time = -49 + 4.3E-09*n^3 (sec) | 56631.68144191306\n",
      "Quadratic: time = -72 + 2E-05*n^2 (sec) | 101322.81044136792\n",
      "Linearithmic: time = -1.1E+02 + 0.01*n*log(n) (sec) | 165159.6456644176\n",
      "Linear: time = -1.1E+02 + 0.086*n (sec) | 176698.92796259583\n",
      "Logarithmic: time = -1E+02 + 29*log(n) (sec) | 324034.55046488193\n",
      "Constant: time = 1E+02 (sec) | 364452.09251446975\n"
     ]
    }
   ],
   "source": [
    "print(f\"predicted: {best}\")\n",
    "print()\n",
    "for class_, residual in sorted(others.items(), key=lambda t: t[1], reverse=False):\n",
    "    print(f\"{class_} | {residual}\")"
   ]
  },
  {
   "cell_type": "markdown",
   "metadata": {},
   "source": [
    "I wonder if the looping is that bad in python... Unless I'm missing something it looks like O(r*c) so should be polynomial time"
   ]
  },
  {
   "cell_type": "markdown",
   "metadata": {},
   "source": [
    "### Q2\n",
    "Given an r x c grid, print all cells in spiral order\n",
    "\n",
    "**Example:**\n",
    "[[1,2,3],[4,5,6],[7,8,9]] -> 1,2,3,6,9,8,7,4,5"
   ]
  },
  {
   "cell_type": "code",
   "execution_count": 14,
   "metadata": {},
   "outputs": [
    {
     "name": "stdout",
     "output_type": "stream",
     "text": [
      "input matrix: [[1, 2, 3, 4, 5], [6, 7, 8, 9, 10], [11, 12, 13, 14, 15], [16, 17, 18, 19, 20]]\n",
      "spiral order: [1, 2, 3, 4, 5, 10, 15, 20, 19, 18, 17, 16, 11, 6, 7, 8, 9, 14, 13, 12]\n"
     ]
    }
   ],
   "source": [
    "def get_spiral_order(inp_matrix):\n",
    "    start_row = 0\n",
    "    start_col = 0\n",
    "    end_row = len(inp_matrix)\n",
    "    end_col = len(inp_matrix[0])\n",
    "    result = []\n",
    "\n",
    "    while end_row > start_row and end_col > start_col:\n",
    "\n",
    "        for item in inp_matrix[start_row][start_col: end_col]:\n",
    "            result.append(item)\n",
    "\n",
    "        for row in range(start_row+1, end_row):\n",
    "            result.append(inp_matrix[row][end_col-1])\n",
    "            \n",
    "        for col in reversed(list(range(start_col, end_col-1))):\n",
    "            result.append(inp_matrix[end_row-1][col])\n",
    "            \n",
    "        for i in reversed(list(range(start_row+1, end_row-1))):\n",
    "            result.append(inp_matrix[i][start_col])\n",
    "        \n",
    "        start_col += 1\n",
    "        start_row += 1\n",
    "        end_col -= 1\n",
    "        end_row -= 1\n",
    "            \n",
    "    return result\n",
    "        \n",
    "cases = [\n",
    "    [[1,2,3],[4,5,6],[7,8,9]],\n",
    "    [[1,2,3,4,5],[6,7,8,9,10],[11,12,13,14,15],[16,17,18,19,20]],\n",
    "]\n",
    "\n",
    "for case in cases:\n",
    "    print(f\"input matrix: {case}\")\n",
    "    spiral_order = get_spiral_order(case)\n",
    "    print(f\"spiral order: {spiral_order}\")"
   ]
  },
  {
   "cell_type": "markdown",
   "metadata": {},
   "source": [
    "### Q3\n",
    "Scheduling Problem\n",
    "\n",
    "You are tasked with creating an algorithm to determine the execution order of a set of tasks.  This algorithm will be\n",
    "provided with a list of task labels and a list of task dependencies.  Your algorithm should determine a valid execution\n",
    "order of the provided tasks.  If there is no valid execution order your algorithm should return None.\n",
    "\n",
    "**Example 1:**\n",
    "\n",
    "labels = ['a', 'b', 'c', 'd', 'e']\n",
    "\n",
    "where each element in \"labels\" represents a task label\n",
    "\n",
    "dependencies = [('b', 'a'), ('c', 'a'), ('d', 'c')]\n",
    "\n",
    "where each element tuple represents a task dependency in which the first element depends on the second\n",
    "\n",
    "i.e. 'b' depends on 'a', 'c' depends on 'a', and 'd' depends on 'c'\n",
    "\n",
    "In this case a valid execution order would be ['a', 'b', 'c', 'd']\n",
    "\n",
    "another valid execution order could be ['a', 'c', 'b', 'd']\n",
    "\n",
    "**Example 2:**\n",
    "\n",
    "labels = ['a', 'b']\n",
    "\n",
    "dependencies = [('b', 'a'), ('a', 'b')]\n",
    "\n",
    "In this case there is no valid execution order so your algorithm should return None"
   ]
  },
  {
   "cell_type": "code",
   "execution_count": 24,
   "metadata": {},
   "outputs": [
    {
     "name": "stdout",
     "output_type": "stream",
     "text": [
      "Dependency Graph: {'a': ['e', 'b'], 'b': ['c'], 'c': ['d'], 'd': [], 'e': []}\n",
      "Suggested Execution Plan: ['e', 'd', 'c', 'b', 'a']\n",
      "Dependency Graph: {'a': ['b'], 'b': ['a']}\n",
      "Suggested Execution Plan: None\n"
     ]
    }
   ],
   "source": [
    "from collections import defaultdict, deque\n",
    "\n",
    "def make_dependency_graph(labels, dependencies):\n",
    "    graph = {}\n",
    "    for l in labels:\n",
    "        graph[l] = []\n",
    "    for k, v in dependencies:\n",
    "        deps = graph[k]\n",
    "        deps.append(v)\n",
    "    \n",
    "    return graph\n",
    "\n",
    "\n",
    "def get_execution_plan(nodes, graph):   \n",
    "    to_visit, visited, checked = deque(labels), [], defaultdict(int)\n",
    "    while to_visit:\n",
    "        cur_place = to_visit.pop()\n",
    "        checked[cur_place] += 1\n",
    "        for dep_place in graph.get(cur_place): # dependencies\n",
    "            if dep_place not in visited: \n",
    "                to_visit.append(cur_place)\n",
    "                break\n",
    "        else:\n",
    "            visited.append(cur_place)\n",
    "        if checked[cur_place] > 2:\n",
    "            return None\n",
    "            \n",
    "    return visited\n",
    "    \n",
    "            \n",
    "for labels, dependencies in [\n",
    "    [['a', 'b', 'c', 'd', 'e'],\n",
    "     [('a', 'e'), ('a', 'b'), ('b', 'c'), ('c', 'd')]],\n",
    "    [['a', 'b'],\n",
    "    [('b', 'a'), ('a', 'b')]],]:\n",
    "    graph = make_dependency_graph(labels, dependencies)\n",
    "    print(f\"Dependency Graph: {graph}\")\n",
    "\n",
    "    visited = get_execution_plan(labels, graph) \n",
    "    print(f\"Suggested Execution Plan: {visited}\")"
   ]
  }
 ],
 "metadata": {
  "kernelspec": {
   "display_name": "Python 3",
   "language": "python",
   "name": "python3"
  },
  "language_info": {
   "codemirror_mode": {
    "name": "ipython",
    "version": 3
   },
   "file_extension": ".py",
   "mimetype": "text/x-python",
   "name": "python",
   "nbconvert_exporter": "python",
   "pygments_lexer": "ipython3",
   "version": "3.8.5"
  }
 },
 "nbformat": 4,
 "nbformat_minor": 4
}
